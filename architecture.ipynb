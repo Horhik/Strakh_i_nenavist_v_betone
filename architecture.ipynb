{
  "nbformat": 4,
  "nbformat_minor": 0,
  "metadata": {
    "colab": {
      "provenance": []
    },
    "kernelspec": {
      "name": "python3",
      "display_name": "Python 3"
    },
    "language_info": {
      "name": "python"
    }
  },
  "cells": [
    {
      "cell_type": "markdown",
      "source": [
        "### Дивертисмент: Диалог Клиента и БД\n",
        "\n",
        "Клиент 🥭: Дай мне список возможных конструкций  \n",
        "\n",
        "БД 💻: Отдает **СПИСОК КОНСТРУКЦИЙ**\n",
        "\n",
        "Клиент 🥭: Дай мне список возможных материалов для **ЭТОЙ КОНСТРУКЦИИ**\n",
        "\n",
        "БД 💻: **СПИСОК МАТЕРИАЛОВ** для **ЭТОЙ КОНСТРУКЦИИ**\n",
        "\n",
        "Клиент 🥭: Дай мне список **ВОЗМОЖНЫХ ДЕФФЕКТОВ** для **ЭТОЙ КОНСТРУКЦИИ** из **ЭТОГО МАТЕРИАЛА**\n",
        "\n",
        "БД 💻: **СПИСОК ВОЗМОЖНЫХ ДЕФФЕКТОВ**\n",
        "\n",
        "Клиент 🥭: Я обнаружил **ЭТОТ ДЕФФЕКТ** дай мне все возможные данные о нем\n",
        "\n",
        "БД 💻: **ЭТИ ДАННЫЕ** для **ЭТОГО ДЕФФЕКТА**\n",
        "\n",
        "Клиент 🥭: Оценивает **ЭТОТ ДЕФФЕКТ** на основе **ЭТИХ ДАННЫХ**"
      ],
      "metadata": {
        "id": "Nhd9YmvTEbY8"
      }
    },
    {
      "cell_type": "markdown",
      "source": [
        "## Создание БД"
      ],
      "metadata": {
        "id": "2YzA5Du-AVQj"
      }
    },
    {
      "cell_type": "code",
      "execution_count": null,
      "metadata": {
        "id": "DDoR-flY9Jmt"
      },
      "outputs": [],
      "source": [
        "import sqlite3\n",
        "\n",
        "# Создаем подключение к базе данных SQLite\n",
        "with sqlite3.connect('defect_db.db') as conn:\n",
        "  cursor = conn.cursor()\n",
        "\n",
        "  # Создаем таблицы\n",
        "  cursor.execute('''CREATE TABLE IF NOT EXISTS constructions (\n",
        "      id INTEGER PRIMARY KEY AUTOINCREMENT,\n",
        "      name TEXT NOT NULL\n",
        "  )''')\n",
        "\n",
        "  cursor.execute('''CREATE TABLE IF NOT EXISTS materials (\n",
        "      id INTEGER PRIMARY KEY AUTOINCREMENT,\n",
        "      construction_id INTEGER,\n",
        "      name TEXT NOT NULL,\n",
        "      FOREIGN KEY(construction_id) REFERENCES constructions(id)\n",
        "  )''')\n",
        "\n",
        "  cursor.execute('''CREATE TABLE IF NOT EXISTS defects (\n",
        "      id INTEGER PRIMARY KEY AUTOINCREMENT,\n",
        "      construction_id INTEGER,\n",
        "      material_id INTEGER,\n",
        "      name TEXT NOT NULL,\n",
        "      FOREIGN KEY(construction_id) REFERENCES constructions(id),\n",
        "      FOREIGN KEY(material_id) REFERENCES materials(id)\n",
        "  )''')\n",
        "\n",
        "  # От поля options_JSON определяется view пользоватля\n",
        "  # Либо будет селектор со значениями\n",
        "  # Либо поля с вводами и некоторой валидацией (на это забъем на начальных этапах)\n",
        "  #\n",
        "  \"\"\"\n",
        "  {\n",
        "    type: selectable,\n",
        "    values:  [скучно, нудно, все вымерли]\n",
        "  }\n",
        "\n",
        "  {\n",
        "    type: field,\n",
        "    values:  [\n",
        "      {\n",
        "        name: \"ширина трещины\",\n",
        "        type: int\n",
        "        },\n",
        "      {\n",
        "        name: \"глубина трещины\",\n",
        "        type: int\n",
        "        }\n",
        "      ]\n",
        "  }\n",
        "  \"\"\"\n",
        "  #\n",
        "  #\n",
        "  cursor.execute('''CREATE TABLE IF NOT EXISTS parameters (\n",
        "      id INTEGER PRIMARY KEY AUTOINCREMENT,\n",
        "      defect_id INTEGER NOT NULL,\n",
        "      options_JSON TEXT,\n",
        "      FOREIGN KEY(defect_id) REFERENCES defects(id)\n",
        "  )''')"
      ]
    },
    {
      "cell_type": "markdown",
      "source": [],
      "metadata": {
        "id": "vp9-IDG6AUi4"
      }
    },
    {
      "cell_type": "markdown",
      "source": [
        "## Предпологаемые запросы к БД\n",
        "Пользователь никак не взаимадействует с БД\n",
        "Бизнес логика выстраивается на стороне клиента\n",
        "Достаточные для вынесения вердикта данные лежат в json для каждого конкретного дефекта"
      ],
      "metadata": {
        "id": "BQBFrNCiCXbG"
      }
    },
    {
      "cell_type": "code",
      "source": [
        "def get_avaliable_constructions():\n",
        "    cursor.execute('SELECT * FROM constructions')\n",
        "    return cursor.fetchall()\n",
        "\n",
        "def get_avaliable_materials(construction_id):\n",
        "    cursor.execute('SELECT id, name FROM materials WHERE construction_id = ?', (construction_id,))\n",
        "    return cursor.fetchall()\n",
        "\n",
        "\n",
        "def get_avaliable_defects(construction_id, material_id):\n",
        "    cursor.execute('SELECT id, name FROM defects WHERE construction_id = ? AND material_id = ?', (construction_id, material_id))\n",
        "    return cursor.fetchall()\n",
        "\n",
        "def get_parameters(defect_id):\n",
        "    cursor.execute('SELECT options_JSON FROM parameters WHERE defect_id = ?', (defect_id,))\n",
        "    return cursor.fetchone()\n",
        "\n"
      ],
      "metadata": {
        "id": "ULzDJyi1_T-B"
      },
      "execution_count": null,
      "outputs": []
    },
    {
      "cell_type": "markdown",
      "source": [
        "## Предпологоаемая модель json для деффекта\n",
        "\n",
        "```json\n",
        "  {\n",
        "  \"name\": \"Трещина\",\n",
        "  \"measure\": \"мм\",\n",
        "  \"оценка\": {\n",
        "      1: [0, 0.1],\n",
        "      2: [0.1, 0.3],\n",
        "      3: [0.3, 0.5],\n",
        "      4: [0.5, 1],\n",
        "      5: [1, 1000000]\n",
        "    },\n",
        "  }\n",
        "```"
      ],
      "metadata": {
        "id": "ZqX-FoUXCsma"
      }
    },
    {
      "cell_type": "markdown",
      "source": [
        "```json\n",
        "  {\n",
        "  \"name\": \"Трещина\",\n",
        "  \"measure\": \"мм\",\n",
        "  \"оценка\": {\n",
        "      1: [0, 0.1],\n",
        "      2: [0.1, 0.3],\n",
        "      3: [0.3, 0.5],\n",
        "      4: [0.5, 1],\n",
        "      5: [1, 1000000]\n",
        "    },\n",
        "  }\n",
        "\n",
        "Коррозия арматуры,\"1. Нет, 2. До 10% площади, 3. До 15% площади, 4. Оголение арматуры, 5. Коррозия более 15%\",1. Нет — 1\n",
        ",,2. До 10% площади — 2\n",
        ",,3. До 15% площади — 3\n",
        ",,4. Оголение арматуры — 4\n",
        ",,5. Коррозия более 15% — 5\n",
        "```\n"
      ],
      "metadata": {
        "id": "j_t9VWMiRuMF"
      }
    },
    {
      "cell_type": "markdown",
      "source": [
        "## Наполнение БД"
      ],
      "metadata": {
        "id": "nqhGC61MHrkS"
      }
    },
    {
      "cell_type": "code",
      "source": [
        "with sqlite3.connect('defect_db.db') as conn:\n",
        "  cursor = conn.cursor()\n",
        "  cursor.execute(\"INSERT INTO constructions (id, name) VALUES (?, ?)\", [0, \"Неизвестная\"])\n",
        "  cursor.fetchall()\n",
        "  conn.commit()"
      ],
      "metadata": {
        "id": "IVfIJ_5wKS1U"
      },
      "execution_count": null,
      "outputs": []
    },
    {
      "cell_type": "code",
      "source": [
        "with sqlite3.connect('defect_db.db') as conn:\n",
        "  cursor = conn.cursor()\n",
        "  cursor.executemany('''INSERT INTO materials (construction_id, name) VALUES (?, ?);''', [\n",
        "  (0, \"Стальная конструкция\"),\n",
        "  (0, \"Железобетонная конструкция\"),\n",
        "  (0, \"Железобетонная конструкция\"),\n",
        "  (0, \"Каменная конструкция\"),\n",
        "  (0, \"Деревянная конструкция\")])\n",
        "  cursor.fetchall()\n",
        "  conn.commit()\n"
      ],
      "metadata": {
        "id": "E3vRWsq8F2J3"
      },
      "execution_count": null,
      "outputs": []
    },
    {
      "cell_type": "code",
      "source": [
        "with sqlite3.connect('defect_db.db') as conn:\n",
        "  cursor = conn.cursor()\n",
        "  cursor.execute(\"SELECT * FROM materials\")\n",
        "  cursor.fetchall()\n"
      ],
      "metadata": {
        "id": "ECieyTuELV76"
      },
      "execution_count": null,
      "outputs": []
    },
    {
      "cell_type": "code",
      "source": [
        "with sqlite3.connect('defect_db.db') as conn:\n",
        "  cursor = conn.cursor()\n",
        "  cursor.executemany(\"\"\"\n",
        "  INSERT INTO defects (name, material_id, construction_id)\n",
        "  VALUES (?,\n",
        "          (SELECT id FROM materials where name = ? AND construction_id = 0),\n",
        "          0)   ;\n",
        "\n",
        "  \"\"\",\n",
        "        [(\"Признаки силовых воздействий\", \"Стальная конструкция\"),\n",
        "         (\"Коррозия\", \"Стальная конструкция\"),\n",
        "        (\"Погнутости от ударов\", \"Стальная конструкция\"),\n",
        "        (\"Трещины в бетоне\", \"Железобетонная конструкция\"),\n",
        "        (\"Коррозия арматуры\", \"Железобетонная конструкция\"),\n",
        "        (\"Прочность бетона\", \"Железобетонная конструкция\"),\n",
        "        (\"Трещины в кладке\", \"Каменная конструкция\"),\n",
        "        (\"Выветривание и отслоение\", \"Каменная конструкция\"),\n",
        "        (\"Трещины в растянутой зоне\", \"Железобетонная конструкция\"),\n",
        "        (\"Коррозия арматуры\", \"Железобетонная конструкция\"),\n",
        "        (\"Прогиб изгибаемых элементов\", \"Деревянная конструкция\"),\n",
        "        (\"Поражение гнилью\", \"Деревянная конструкция\"),\n",
        "        (\"Наклон и выпучивание стен\", \"Каменная конструкция\"),\n",
        "         ]\n",
        "  )\n",
        "  cursor.fetchall();\n",
        "  conn.commit()\n",
        "\n"
      ],
      "metadata": {
        "id": "mKmKx1HIL4NK"
      },
      "execution_count": null,
      "outputs": []
    },
    {
      "cell_type": "code",
      "source": [
        "with sqlite3.connect('defect_db.db') as conn:\n",
        "  cursor = conn.cursor()\n",
        "  cursor.execute(\"SELECT * FROM defects\")\n",
        "  print(cursor.fetchall())\n"
      ],
      "metadata": {
        "id": "qBbnit1cQY5E",
        "colab": {
          "base_uri": "https://localhost:8080/"
        },
        "outputId": "0f39c987-90d1-4c6f-be73-f9550ddc5113"
      },
      "execution_count": null,
      "outputs": [
        {
          "output_type": "stream",
          "name": "stdout",
          "text": [
            "[(1, 0, 1, 'Признаки силовых воздействий'), (2, 0, 1, 'Коррозия'), (3, 0, 1, 'Погнутости от ударов'), (4, 0, 2, 'Трещины в бетоне'), (5, 0, 2, 'Коррозия арматуры'), (6, 0, 2, 'Прочность бетона'), (7, 0, 4, 'Трещины в кладке'), (8, 0, 4, 'Выветривание и отслоение'), (9, 0, 2, 'Трещины в растянутой зоне'), (10, 0, 2, 'Коррозия арматуры'), (11, 0, 5, 'Прогиб изгибаемых элементов'), (12, 0, 5, 'Поражение гнилью'), (13, 0, 4, 'Наклон и выпучивание стен')]\n"
          ]
        }
      ]
    },
    {
      "cell_type": "markdown",
      "source": [],
      "metadata": {
        "id": "FX7KGNkQSq_h"
      }
    },
    {
      "cell_type": "markdown",
      "source": [
        "### СУЩИЙ КОШМАР И МРАКОБЕСИЕ"
      ],
      "metadata": {
        "id": "0dUKBOsWTT83"
      }
    },
    {
      "cell_type": "code",
      "source": [
        "import json"
      ],
      "metadata": {
        "id": "LOY0NRg0g3-e"
      },
      "execution_count": null,
      "outputs": []
    },
    {
      "cell_type": "code",
      "source": [
        "# Данные для заполнения таблицы\n",
        "parameters_data = [\n",
        "    {\n",
        "        \"defect_id\": 1,\n",
        "        \"options_JSON\": json.dumps({\n",
        "            \"name\": \"Признаки силовых воздействий\",\n",
        "            \"measure\": \"отношение пролета\",\n",
        "            \"оценка\": {\n",
        "                1: [0, 0],\n",
        "                2: [0, 0.0067],\n",
        "                3: [0.0067, 0.0133],\n",
        "                4: [0.0133, 0.02],\n",
        "                5: [0.02, 1000000]\n",
        "            }\n",
        "        })\n",
        "    },\n",
        "    {\n",
        "        \"defect_id\": 2,\n",
        "        \"options_JSON\": json.dumps({\n",
        "            \"name\": \"Коррозия\",\n",
        "            \"measure\": \"% сечения\",\n",
        "            \"оценка\": {\n",
        "                1: [0, 0],\n",
        "                2: [0, 5],\n",
        "                3: [5, 15],\n",
        "                4: [15, 25],\n",
        "                5: [25, 1000000]\n",
        "            }\n",
        "        })\n",
        "    },\n",
        "    {\n",
        "        \"defect_id\": 3,\n",
        "        \"options_JSON\": json.dumps({\n",
        "            \"name\": \"Погнутости от ударов\",\n",
        "            \"measure\": \"% ослабления\",\n",
        "            \"оценка\": {\n",
        "                1: [0, 0],\n",
        "                2: [0, 5],\n",
        "                3: [5, 15],\n",
        "                4: [15, 25],\n",
        "                5: [25, 1000000]\n",
        "            }\n",
        "        })\n",
        "    },\n",
        "    {\n",
        "        \"defect_id\": 4,\n",
        "        \"options_JSON\": json.dumps({\n",
        "            \"name\": \"Трещины в бетоне\",\n",
        "            \"measure\": \"мм\",\n",
        "            \"оценка\": {\n",
        "                1: [0, 0.1],\n",
        "                2: [0.1, 0.3],\n",
        "                3: [0.3, 0.5],\n",
        "                4: [0.5, 1],\n",
        "                5: [1, 1000000]\n",
        "            }\n",
        "        })\n",
        "    },\n",
        "    {\n",
        "        \"defect_id\": 5,\n",
        "        \"options_JSON\": json.dumps({\n",
        "            \"name\": \"Коррозия арматуры\",\n",
        "            \"measure\": \"% площади\",\n",
        "            \"оценка\": {\n",
        "                1: [0, 0],\n",
        "                2: [0, 10],\n",
        "                3: [10, 15],\n",
        "                4: [15, 100],\n",
        "                5: [100, 1000000]\n",
        "            }\n",
        "        })\n",
        "    },\n",
        "    {\n",
        "        \"defect_id\": 6,\n",
        "        \"options_JSON\": json.dumps({\n",
        "            \"name\": \"Прочность бетона\",\n",
        "            \"measure\": \"% прочности\",\n",
        "            \"оценка\": {\n",
        "                1: [100, 100],\n",
        "                2: [80, 100],\n",
        "                3: [70, 80],\n",
        "                4: [0, 70],\n",
        "                5: [0, 30]\n",
        "            }\n",
        "        })\n",
        "    },\n",
        "    {\n",
        "        \"defect_id\": 7,\n",
        "        \"options_JSON\": json.dumps({\n",
        "            \"name\": \"Трещины в кладке\",\n",
        "            \"measure\": \"ряды\",\n",
        "            \"оценка\": {\n",
        "                1: [0, 0],\n",
        "                2: [0, 2],\n",
        "                3: [2, 4],\n",
        "                4: [4, 1000000],\n",
        "                5: [1000000, float(\"inf\")]\n",
        "            }\n",
        "        })\n",
        "    },\n",
        "    {\n",
        "        \"defect_id\": 8,\n",
        "        \"options_JSON\": json.dumps({\n",
        "            \"name\": \"Выветривание и отслоение\",\n",
        "            \"measure\": \"% толщины\",\n",
        "            \"оценка\": {\n",
        "                1: [0, 0],\n",
        "                2: [0, 1],\n",
        "                3: [1, 15],\n",
        "                4: [15, 25],\n",
        "                5: [25, 40]\n",
        "            }\n",
        "        })\n",
        "    },\n",
        "    {\n",
        "        \"defect_id\": 9,\n",
        "        \"options_JSON\": json.dumps({\n",
        "            \"name\": \"Трещины в растянутой зоне\",\n",
        "            \"measure\": \"мм\",\n",
        "            \"оценка\": {\n",
        "                1: [0, 0.1],\n",
        "                2: [0.1, 0.3],\n",
        "                3: [0.3, 0.5],\n",
        "                4: [0.5, 1],\n",
        "                5: [1, float(\"inf\")]\n",
        "            }\n",
        "        })\n",
        "    },\n",
        "    {\n",
        "        \"defect_id\": 10,\n",
        "        \"options_JSON\": json.dumps({\n",
        "            \"name\": \"Коррозия арматуры\",\n",
        "            \"measure\": \"% сечения\",\n",
        "            \"оценка\": {\n",
        "                1: [0, 0],\n",
        "                2: [0, 10],\n",
        "                3: [10, 15],\n",
        "                4: [15, 25],\n",
        "                5: [25, float(\"inf\")]\n",
        "            }\n",
        "        })\n",
        "    },\n",
        "    {\n",
        "        \"defect_id\": 11,\n",
        "        \"options_JSON\": json.dumps({\n",
        "            \"name\": \"Прогиб изгибаемых элементов\",\n",
        "            \"measure\": \"отношение пролета\",\n",
        "            \"оценка\": {\n",
        "                1: [0, 0],\n",
        "                2: [0, 1],  # Ослабление креплений — условная оценка\n",
        "                3: [0, 0.02],  # Превышение СНиП\n",
        "                4: [0.02, 0.0133],\n",
        "                5: [0.0133, float(\"inf\")]\n",
        "            }\n",
        "        })\n",
        "    },\n",
        "    {\n",
        "        \"defect_id\": 12,\n",
        "        \"options_JSON\": json.dumps({\n",
        "            \"name\": \"Поражение гнилью\",\n",
        "            \"measure\": \"%\",\n",
        "            \"оценка\": {\n",
        "                1: [0, 0],\n",
        "                2: [0, 15],\n",
        "                3: [15, 25],\n",
        "                4: [25, 100],\n",
        "                5: [100, float(\"inf\")]\n",
        "            }\n",
        "        })\n",
        "    },\n",
        "    {\n",
        "        \"defect_id\": 13,\n",
        "        \"options_JSON\": json.dumps({\n",
        "            \"name\": \"Наклон и выпучивание стен\",\n",
        "            \"measure\": \"отношение толщины\",\n",
        "            \"оценка\": {\n",
        "                1: [0, 0],\n",
        "                2: [0, 0.167],  # 1/6\n",
        "                3: [0.167, 0.15],  # На глубину до 15%\n",
        "                4: [0.15, 0.333],  # До 1/3 толщины\n",
        "                5: [0.333, float(\"inf\")]\n",
        "            }\n",
        "        })\n",
        "    }\n",
        "]\n"
      ],
      "metadata": {
        "id": "_BsI52x-TWuZ"
      },
      "execution_count": null,
      "outputs": []
    },
    {
      "cell_type": "markdown",
      "source": [
        "### Наполнение Jsonamи"
      ],
      "metadata": {
        "id": "9Xy_F0KZTYXy"
      }
    },
    {
      "cell_type": "code",
      "source": [
        "import sqlite3\n",
        "import json\n",
        "\n",
        "# Подключение к базе данных SQLite\n",
        "conn = sqlite3.connect('defect_db.db')\n",
        "cursor = conn.cursor()\n",
        "\n",
        "\n",
        "\n",
        "# Вставка данных в таблицу parameters\n",
        "for param in parameters_data:\n",
        "    cursor.execute('INSERT INTO parameters (defect_id, options_JSON) VALUES (?, ?)',\n",
        "                   (param['defect_id'], param['options_JSON']))\n",
        "\n",
        "# Сохраняем изменения и закрываем соединение\n",
        "conn.commit()\n",
        "conn.close()\n",
        "\n",
        "print(\"Данные успешно добавлены в таблицу parameters.\")\n"
      ],
      "metadata": {
        "colab": {
          "base_uri": "https://localhost:8080/"
        },
        "id": "xzRU7uVNSrev",
        "outputId": "e2d9b824-6546-49c7-b1f9-9e14090843c2"
      },
      "execution_count": null,
      "outputs": [
        {
          "output_type": "stream",
          "name": "stdout",
          "text": [
            "Данные успешно добавлены в таблицу parameters.\n"
          ]
        }
      ]
    },
    {
      "cell_type": "markdown",
      "source": [
        "## Пример взаимодействия пользователя с БД\n",
        "\n",
        "Данный пример является лишь примером\n",
        "На практике данные взаимодействия будут происходить между клиентским приложением и сервером. Рассмотрим случай в котором клиент выбирает *Неизвестный объект, который является деревянной конструкцией*"
      ],
      "metadata": {
        "id": "faePMnzNUS0d"
      }
    },
    {
      "cell_type": "markdown",
      "source": [],
      "metadata": {
        "id": "NH5bYDb7WKH0"
      }
    },
    {
      "cell_type": "markdown",
      "source": [
        "Пользователь выбирает Объект\n",
        "Посылается запрос к БД и предоставляется список доступных Объектов"
      ],
      "metadata": {
        "id": "XKpKp0pDVEct"
      }
    },
    {
      "cell_type": "code",
      "source": [
        "conn = sqlite3.connect('defect_db.db')\n",
        "cursor = conn.cursor()\n",
        "\n",
        "constructions = get_avaliable_constructions()\n",
        "constructions\n"
      ],
      "metadata": {
        "colab": {
          "base_uri": "https://localhost:8080/"
        },
        "id": "5jn82NIUUeey",
        "outputId": "7ec33ee6-39e3-4da3-bf00-8dd050f711c1"
      },
      "execution_count": null,
      "outputs": [
        {
          "output_type": "execute_result",
          "data": {
            "text/plain": [
              "[(0, 'Неизвестная')]"
            ]
          },
          "metadata": {},
          "execution_count": 12
        }
      ]
    },
    {
      "cell_type": "markdown",
      "source": [
        "Выбрав из выпадающего меню конструкцию пользователь выбирает более конкретное значение"
      ],
      "metadata": {
        "id": "qjhvRu99VHLS"
      }
    },
    {
      "cell_type": "code",
      "source": [
        "materials = get_avaliable_materials(constructions[0][0])\n",
        "materials"
      ],
      "metadata": {
        "colab": {
          "base_uri": "https://localhost:8080/"
        },
        "id": "5IlwXt6oVPqQ",
        "outputId": "49491a4f-26ec-4f36-ebd1-fcd5e0a853bb"
      },
      "execution_count": null,
      "outputs": [
        {
          "output_type": "execute_result",
          "data": {
            "text/plain": [
              "[(1, 'Стальная конструкция'),\n",
              " (2, 'Железобетонная конструкция'),\n",
              " (3, 'Железобетонная конструкция'),\n",
              " (4, 'Каменная конструкция'),\n",
              " (5, 'Деревянная конструкция')]"
            ]
          },
          "metadata": {},
          "execution_count": 13
        }
      ]
    },
    {
      "cell_type": "markdown",
      "source": [
        "Пользователь выбирает доступную конструкцию из ему выводится список деффектов"
      ],
      "metadata": {
        "id": "9nJ1a_pnVjKo"
      }
    },
    {
      "cell_type": "code",
      "source": [
        "defects = get_avaliable_defects(constructions[0][0], materials[4][0])\n",
        "defects"
      ],
      "metadata": {
        "colab": {
          "base_uri": "https://localhost:8080/"
        },
        "id": "KVdNgb2yVafl",
        "outputId": "4bc15b3d-a70d-45a1-b977-f79af015c87c"
      },
      "execution_count": null,
      "outputs": [
        {
          "output_type": "execute_result",
          "data": {
            "text/plain": [
              "[(11, 'Прогиб изгибаемых элементов'), (12, 'Поражение гнилью')]"
            ]
          },
          "metadata": {},
          "execution_count": 14
        }
      ]
    },
    {
      "cell_type": "markdown",
      "source": [
        "И далее наконец-то узнает какие параметры нужно ему ввести"
      ],
      "metadata": {
        "id": "TRP8MhqpWiUo"
      }
    },
    {
      "cell_type": "code",
      "source": [
        "params = (get_parameters(11), get_parameters(12))\n",
        "(json.loads(params[0][0]), json.loads(params[1][0]))\n"
      ],
      "metadata": {
        "colab": {
          "base_uri": "https://localhost:8080/"
        },
        "id": "vsPjayWsWeIE",
        "outputId": "42cc5cad-8d61-476f-a6d5-a867d09c7bd3"
      },
      "execution_count": null,
      "outputs": [
        {
          "output_type": "execute_result",
          "data": {
            "text/plain": [
              "({'name': 'Прогиб изгибаемых элементов',\n",
              "  'measure': 'отношение пролета',\n",
              "  'оценка': {'1': [0, 0],\n",
              "   '2': [0, 1],\n",
              "   '3': [0, 0.02],\n",
              "   '4': [0.02, 0.0133],\n",
              "   '5': [0.0133, inf]}},\n",
              " {'name': 'Поражение гнилью',\n",
              "  'measure': '%',\n",
              "  'оценка': {'1': [0, 0],\n",
              "   '2': [0, 15],\n",
              "   '3': [15, 25],\n",
              "   '4': [25, 100],\n",
              "   '5': [100, inf]}})"
            ]
          },
          "metadata": {},
          "execution_count": 15
        }
      ]
    },
    {
      "cell_type": "markdown",
      "source": [
        "Пользователю выводится только название и единица измерения,\n",
        "\n",
        "После чего при вводе значения клиентское приложение самостоятельно высчитывает оценку и выводит результат"
      ],
      "metadata": {
        "id": "I3a7OrNIXEH5"
      }
    },
    {
      "cell_type": "code",
      "source": [],
      "metadata": {
        "id": "9wxO5JCAXIBx"
      },
      "execution_count": null,
      "outputs": []
    }
  ]
}